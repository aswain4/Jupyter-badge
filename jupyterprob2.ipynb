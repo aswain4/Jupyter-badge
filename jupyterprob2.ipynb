{
 "cells": [
  {
   "cell_type": "markdown",
   "id": "3e972a27-54d2-4527-9ae8-5d419fc8d7f8",
   "metadata": {},
   "source": [
    "By considering the terms in the Fibonacci sequence whose values do not exceed four million,\n",
    "find the sum of the even-valued terms"
   ]
  },
  {
   "cell_type": "code",
   "execution_count": 3,
   "id": "2cf8a2e1-9161-497c-952f-59f2196190cf",
   "metadata": {},
   "outputs": [
    {
     "name": "stdout",
     "output_type": "stream",
     "text": [
      "4613732\n"
     ]
    }
   ],
   "source": [
    "nums = [1, 2]\n",
    "\n",
    "while True:\n",
    "    # adding sum of last 2 numbers to end of list\n",
    "    nums.append(nums[-1] + nums[-2])\n",
    "    # break if most recent number > 4 million\n",
    "    if nums[-1] > 4000000:\n",
    "        break\n",
    "# use lambda function to find the even-valued terms and get sum\n",
    "print(sum(filter(lambda x:x % 2 == 0, nums)))"
   ]
  },
  {
   "cell_type": "code",
   "execution_count": null,
   "id": "b56d1481-bc53-4ff8-a6db-f51c4f75a06c",
   "metadata": {},
   "outputs": [],
   "source": []
  }
 ],
 "metadata": {
  "kernelspec": {
   "display_name": "Python 3 (ipykernel)",
   "language": "python",
   "name": "python3"
  },
  "language_info": {
   "codemirror_mode": {
    "name": "ipython",
    "version": 3
   },
   "file_extension": ".py",
   "mimetype": "text/x-python",
   "name": "python",
   "nbconvert_exporter": "python",
   "pygments_lexer": "ipython3",
   "version": "3.10.9"
  }
 },
 "nbformat": 4,
 "nbformat_minor": 5
}
