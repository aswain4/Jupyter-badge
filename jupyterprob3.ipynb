{
 "cells": [
  {
   "cell_type": "markdown",
   "id": "3204eec1-684d-4bf7-8cbb-356e92f23c2f",
   "metadata": {},
   "source": [
    "What is the largest prime factor of the number 600851475143?"
   ]
  },
  {
   "cell_type": "code",
   "execution_count": 9,
   "id": "ae4ffb1f-ed26-4951-86c6-1af0391a1ed1",
   "metadata": {},
   "outputs": [
    {
     "name": "stdout",
     "output_type": "stream",
     "text": [
      "6857\n"
     ]
    }
   ],
   "source": [
    "n = 600851475143\n",
    "# smallest prime number\n",
    "i = 2\n",
    "factors = []\n",
    "\n",
    "while i * i <= n:\n",
    "    if n % i:\n",
    "        i += 1\n",
    "    else:\n",
    "        n //= i\n",
    "        factors.append(i)\n",
    "if n > 1:\n",
    "    factors.append(n)\n",
    "# returns only the largest factor\n",
    "print(factors[-1])\n"
   ]
  },
  {
   "cell_type": "code",
   "execution_count": null,
   "id": "16565c03-1939-49a5-9968-9304c287df90",
   "metadata": {},
   "outputs": [],
   "source": []
  }
 ],
 "metadata": {
  "kernelspec": {
   "display_name": "Python 3 (ipykernel)",
   "language": "python",
   "name": "python3"
  },
  "language_info": {
   "codemirror_mode": {
    "name": "ipython",
    "version": 3
   },
   "file_extension": ".py",
   "mimetype": "text/x-python",
   "name": "python",
   "nbconvert_exporter": "python",
   "pygments_lexer": "ipython3",
   "version": "3.10.9"
  }
 },
 "nbformat": 4,
 "nbformat_minor": 5
}
